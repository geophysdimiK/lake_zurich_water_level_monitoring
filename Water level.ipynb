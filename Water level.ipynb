{
 "cells": [
  {
   "cell_type": "markdown",
   "id": "b8f1a702",
   "metadata": {},
   "source": [
    "# Extracting and displaying the water level of Lake Zurich"
   ]
  },
  {
   "cell_type": "code",
   "execution_count": 59,
   "id": "2622b6cc",
   "metadata": {},
   "outputs": [],
   "source": [
    "import requests #Import requests library for doing the API calls\n",
    "\n",
    "import plotly.offline as py #Import plotly (offline)\n",
    "import plotly.graph_objs as go\n",
    "\n",
    "import time #For the scheduler"
   ]
  },
  {
   "cell_type": "markdown",
   "id": "9ac21f41",
   "metadata": {},
   "source": [
    "### Test wheter accessing the API is possible"
   ]
  },
  {
   "cell_type": "code",
   "execution_count": 60,
   "id": "066c2f70",
   "metadata": {},
   "outputs": [],
   "source": [
    "#State the API URL\n",
    "base_url = 'https://tecdottir.metaodi.ch/measurements/station_name?sort=timestamp_cet%20desc&limit=100&offset=0'\n",
    "base_url = base_url.replace(\"station_name\", \"mythenquai\") #Replace the station name based on the two options: 'tiefenbrunnen' or 'mythenquai'\n"
   ]
  },
  {
   "cell_type": "code",
   "execution_count": 61,
   "id": "294752a5",
   "metadata": {},
   "outputs": [],
   "source": [
    "# Make a GET request to the API based on the following get_post function\n",
    "def get_post():\n",
    "    # GET request\n",
    "    response = requests.get(base_url)\n",
    "\n",
    "    # Check if the request was successful (status code 200)\n",
    "    if response.status_code == 200:\n",
    "        post = response.json()\n",
    "        return post\n",
    "    else:\n",
    "        print('Error:', response.status_code)\n",
    "        return None"
   ]
  },
  {
   "cell_type": "code",
   "execution_count": 62,
   "id": "f3beca15",
   "metadata": {},
   "outputs": [],
   "source": [
    "#Inspect the file --> it consists of an array of values recorded at different time-steps for every 10 mins., where each value is a dictionary \n",
    "test = get_post()"
   ]
  },
  {
   "cell_type": "code",
   "execution_count": 63,
   "id": "0efe7ee6",
   "metadata": {},
   "outputs": [
    {
     "data": {
      "text/plain": [
       "405.99"
      ]
     },
     "execution_count": 63,
     "metadata": {},
     "output_type": "execute_result"
    }
   ],
   "source": [
    "test['result'][0]['values']['water_level']['value'] #Check the latest water level value"
   ]
  },
  {
   "cell_type": "markdown",
   "id": "19c3d47d",
   "metadata": {},
   "source": [
    "### Acquire the values for every 30 mins and plot them on a gauge chart with plotly"
   ]
  },
  {
   "cell_type": "code",
   "execution_count": 58,
   "id": "bbccf8fe",
   "metadata": {},
   "outputs": [
    {
     "ename": "KeyboardInterrupt",
     "evalue": "",
     "output_type": "error",
     "traceback": [
      "\u001b[1;31m---------------------------------------------------------------------------\u001b[0m",
      "\u001b[1;31mKeyboardInterrupt\u001b[0m                         Traceback (most recent call last)",
      "Cell \u001b[1;32mIn[58], line 34\u001b[0m\n\u001b[0;32m     30\u001b[0m fig\u001b[38;5;241m.\u001b[39mupdate_layout(title_text\u001b[38;5;241m=\u001b[39m\u001b[38;5;124m'\u001b[39m\u001b[38;5;124mWater level of Lake of Zurich from station Mythenquai\u001b[39m\u001b[38;5;124m'\u001b[39m, title_x\u001b[38;5;241m=\u001b[39m\u001b[38;5;241m0.5\u001b[39m, title_y\u001b[38;5;241m=\u001b[39m\u001b[38;5;241m0.95\u001b[39m)\n\u001b[0;32m     32\u001b[0m py\u001b[38;5;241m.\u001b[39mplot(fig)\n\u001b[1;32m---> 34\u001b[0m time\u001b[38;5;241m.\u001b[39msleep(\u001b[38;5;241m60\u001b[39m)\n",
      "\u001b[1;31mKeyboardInterrupt\u001b[0m: "
     ]
    }
   ],
   "source": [
    "if __name__ == \"__main__\":\n",
    "    time.sleep(60)  # initial waiting time: 1 minute\n",
    "    while True:\n",
    "        post = get_post()\n",
    "        water_level = post['result'][0]['values']['water_level']['value'] #Get the water level value for every 30 mins.\n",
    "        \n",
    "        #Plot the gauge chart using plotly\n",
    "        fig = go.Figure(go.Indicator(  \n",
    "            mode = \"gauge+number+delta\",\n",
    "            value = water_level,\n",
    "            domain = {'x': [0, 1], 'y': [0, 1]},\n",
    "            #title = {'x': 0, 'text': \"Water level Lake of Zurich\", 'font': {'size': 24}},\n",
    "            delta = {'reference': 406.06, 'increasing': {'color': \"RebeccaPurple\"}},\n",
    "            gauge = {\n",
    "                'axis': {'range': [406, 407], 'tickwidth': 1, 'tickcolor': \"darkblue\"},\n",
    "                'bar': {'color': \"darkblue\"},\n",
    "                'bgcolor': \"white\",\n",
    "                'borderwidth': 2,\n",
    "                'bordercolor': \"gray\",\n",
    "                'steps': [\n",
    "                    {'range': [0, 406.25], 'color': 'white'},\n",
    "                    {'range': [406.25, 406.4], 'color': 'yellow'},\n",
    "                    {'range': [406.4, 406.6], 'color': 'orange'},\n",
    "                    {'range': [406.6, 406.85], 'color': 'red'},\n",
    "                    {'range': [406.85, 407], 'color': 'brown'}],\n",
    "                'threshold': {\n",
    "                    'line': {'color': \"red\", 'width': 4},\n",
    "                    'thickness': 0.5,\n",
    "                    'value': 406.06}}))\n",
    "\n",
    "        fig.update_layout(title_text='Water level of Lake of Zurich from station Mythenquai', title_x=0.5, title_y=0.95)\n",
    "        \n",
    "        py.plot(fig)\n",
    "        \n",
    "        time.sleep(1800)"
   ]
  }
 ],
 "metadata": {
  "kernelspec": {
   "display_name": "Python 3 (ipykernel)",
   "language": "python",
   "name": "python3"
  },
  "language_info": {
   "codemirror_mode": {
    "name": "ipython",
    "version": 3
   },
   "file_extension": ".py",
   "mimetype": "text/x-python",
   "name": "python",
   "nbconvert_exporter": "python",
   "pygments_lexer": "ipython3",
   "version": "3.11.7"
  }
 },
 "nbformat": 4,
 "nbformat_minor": 5
}
