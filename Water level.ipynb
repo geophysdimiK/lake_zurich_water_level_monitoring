{
 "cells": [
  {
   "cell_type": "markdown",
   "id": "b8f1a702",
   "metadata": {},
   "source": [
    "# Extracting and displaying the water level of Lake Zurich"
   ]
  },
  {
   "cell_type": "code",
   "execution_count": 17,
   "id": "6dde3036",
   "metadata": {},
   "outputs": [],
   "source": [
    "%matplotlib inline"
   ]
  },
  {
   "cell_type": "code",
   "execution_count": 1,
   "id": "2622b6cc",
   "metadata": {},
   "outputs": [],
   "source": [
    "import requests #Import requests library for doing the API calls\n",
    "\n",
    "import plotly.offline as py #Import plotly (offline)\n",
    "import plotly.graph_objs as go"
   ]
  },
  {
   "cell_type": "markdown",
   "id": "9ac21f41",
   "metadata": {},
   "source": [
    "### Test wheter accessing the API is possible"
   ]
  },
  {
   "cell_type": "code",
   "execution_count": 4,
   "id": "066c2f70",
   "metadata": {},
   "outputs": [],
   "source": [
    "#State the API URL\n",
    "base_url = 'https://tecdottir.metaodi.ch/measurements/station_name?sort=timestamp_cet%20desc&limit=100&offset=0'\n",
    "base_url = base_url.replace(\"station_name\", \"mythenquai\") #Replace the station name based on the two options: 'tiefenbrunnen' or 'mythenquai'\n"
   ]
  },
  {
   "cell_type": "code",
   "execution_count": 14,
   "id": "294752a5",
   "metadata": {},
   "outputs": [],
   "source": [
    "# Make a GET request to the API based on the following get_post function\n",
    "def get_post():\n",
    "    # GET request\n",
    "    response = requests.get(base_url)\n",
    "\n",
    "    # Check if the request was successful (status code 200)\n",
    "    if response.status_code == 200:\n",
    "        post = response.json()\n",
    "        return post\n",
    "    else:\n",
    "        print('Error:', response.status_code)\n",
    "        return None"
   ]
  },
  {
   "cell_type": "code",
   "execution_count": 16,
   "id": "f3beca15",
   "metadata": {},
   "outputs": [],
   "source": [
    "#Inspect the file --> it consists of an array of values recorded at different time-steps for every 10 mins., where each value is a dictionary \n",
    "test = get_post()"
   ]
  },
  {
   "cell_type": "code",
   "execution_count": 42,
   "id": "0efe7ee6",
   "metadata": {},
   "outputs": [
    {
     "data": {
      "text/plain": [
       "406"
      ]
     },
     "execution_count": 42,
     "metadata": {},
     "output_type": "execute_result"
    }
   ],
   "source": [
    "test['result'][0]['values']['water_level']['value']"
   ]
  },
  {
   "cell_type": "markdown",
   "id": "19c3d47d",
   "metadata": {},
   "source": [
    "### Acquire the values for every 30 mins by automating get_post"
   ]
  },
  {
   "cell_type": "code",
   "execution_count": null,
   "id": "bbccf8fe",
   "metadata": {},
   "outputs": [],
   "source": [
    "if __name__ == \"__main__\":\n",
    "    time.sleep(60)  # imagine you would like to start work in 1 minute first time\n",
    "    while True:\n",
    "        post = get_post()\n",
    "        water_level = post['result'][0]['values']['water_level']['value']\n",
    "        time.sleep(3600)"
   ]
  },
  {
   "cell_type": "markdown",
   "id": "16a54eff",
   "metadata": {},
   "source": [
    "### Create the gauge chart using plotly"
   ]
  },
  {
   "cell_type": "markdown",
   "id": "3c3379f6",
   "metadata": {},
   "source": [
    "#### Define water levels for the gauge chart (according to hydrodaten.admin.ch)"
   ]
  },
  {
   "cell_type": "code",
   "execution_count": 61,
   "id": "518d136e",
   "metadata": {},
   "outputs": [],
   "source": [
    "fig = go.Figure(go.Indicator(\n",
    "    mode = \"gauge+number+delta\",\n",
    "    value = 406.2,\n",
    "    domain = {'x': [0, 1], 'y': [0, 1]},\n",
    "    title = {'text': \"Water level Lake of Zurich\", 'font': {'size': 24}},\n",
    "    delta = {'reference': 406, 'increasing': {'color': \"RebeccaPurple\"}},\n",
    "    gauge = {\n",
    "        'axis': {'range': [405, 407], 'tickwidth': 1, 'tickcolor': \"darkblue\"},\n",
    "        'bar': {'color': \"darkblue\"},\n",
    "        'bgcolor': \"white\",\n",
    "        'borderwidth': 2,\n",
    "        'bordercolor': \"gray\",\n",
    "        'steps': [\n",
    "            {'range': [0, 250], 'color': 'cyan'},\n",
    "            {'range': [200, 400], 'color': 'royalblue'}],\n",
    "        'threshold': {\n",
    "            'line': {'color': \"red\", 'width': 4},\n",
    "            'thickness': 0.75,\n",
    "            'value': 406.6}}))\n",
    "\n",
    "#fig.update_layout(paper_bgcolor = \"lavender\", font = {'color': \"darkblue\", 'family': \"Arial\"})\n",
    "\n",
    "#fig.show()"
   ]
  },
  {
   "cell_type": "code",
   "execution_count": 62,
   "id": "df53fa63",
   "metadata": {},
   "outputs": [
    {
     "data": {
      "text/plain": [
       "'temp-plot.html'"
      ]
     },
     "execution_count": 62,
     "metadata": {},
     "output_type": "execute_result"
    }
   ],
   "source": [
    "py.plot(fig)"
   ]
  },
  {
   "cell_type": "code",
   "execution_count": null,
   "id": "6031bc2e",
   "metadata": {},
   "outputs": [],
   "source": []
  }
 ],
 "metadata": {
  "kernelspec": {
   "display_name": "Python 3 (ipykernel)",
   "language": "python",
   "name": "python3"
  },
  "language_info": {
   "codemirror_mode": {
    "name": "ipython",
    "version": 3
   },
   "file_extension": ".py",
   "mimetype": "text/x-python",
   "name": "python",
   "nbconvert_exporter": "python",
   "pygments_lexer": "ipython3",
   "version": "3.11.7"
  }
 },
 "nbformat": 4,
 "nbformat_minor": 5
}
